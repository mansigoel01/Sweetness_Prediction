{
  "cells": [
    {
      "cell_type": "code",
      "execution_count": 1,
      "metadata": {
        "colab": {
          "base_uri": "https://localhost:8080/"
        },
        "id": "loaPccp9mMXW",
        "outputId": "8fafbcfc-0571-475d-8e78-9dd3369e9b00"
      },
      "outputs": [
        {
          "name": "stdout",
          "output_type": "stream",
          "text": [
            "Collecting padelpy\n",
            "  Downloading padelpy-0.1.12-py2.py3-none-any.whl (20.9 MB)\n",
            "     ---------------------------------------- 20.9/20.9 MB 1.8 MB/s eta 0:00:00\n",
            "Installing collected packages: padelpy\n",
            "Successfully installed padelpy-0.1.12\n",
            "Note: you may need to restart the kernel to use updated packages.\n"
          ]
        },
        {
          "name": "stderr",
          "output_type": "stream",
          "text": [
            "WARNING: You are using pip version 22.0.3; however, version 22.2.2 is available.\n",
            "You should consider upgrading via the 'c:\\Python\\python.exe -m pip install --upgrade pip' command.\n"
          ]
        }
      ],
      "source": [
        "pip install padelpy"
      ]
    },
    {
      "cell_type": "code",
      "execution_count": null,
      "metadata": {
        "colab": {
          "base_uri": "https://localhost:8080/"
        },
        "id": "IycA0ZCymciD",
        "outputId": "164445c0-c269-4dd3-8540-962c9ed5e6d6"
      },
      "outputs": [
        {
          "name": "stdout",
          "output_type": "stream",
          "text": [
            "Drive already mounted at /content/drive; to attempt to forcibly remount, call drive.mount(\"/content/drive\", force_remount=True).\n"
          ]
        }
      ],
      "source": [
        "from google.colab import drive\n",
        "drive.mount('/content/drive')"
      ]
    },
    {
      "cell_type": "code",
      "execution_count": 1,
      "metadata": {
        "id": "yHoYIAJim0IB"
      },
      "outputs": [],
      "source": [
        "import pandas as pd\n",
        "import numpy as np"
      ]
    },
    {
      "cell_type": "code",
      "execution_count": null,
      "metadata": {
        "id": "96WfZwN6m11b"
      },
      "outputs": [],
      "source": [
        "# target = pd.read_csv('/content/drive/MyDrive/smiles - Sheet1.csv')"
      ]
    },
    {
      "cell_type": "code",
      "execution_count": 4,
      "metadata": {},
      "outputs": [],
      "source": [
        "target = pd.read_csv(\"C:/Users/Mansi Goel/Desktop/IIITD/Cosylab Projects/Sweetness Prediction/Data_7_References/csv/Final_Sweet_671.csv\", encoding='windows-1252')"
      ]
    },
    {
      "cell_type": "code",
      "execution_count": 2,
      "metadata": {},
      "outputs": [],
      "source": [
        "target = pd.read_csv(\"C:/Users/Mansi Goel/Desktop/IIITD/Cosylab Projects/Sweetness Prediction/Data_7_References/csv/Kinghorn_5.csv\", encoding='windows-1252')"
      ]
    },
    {
      "cell_type": "code",
      "execution_count": 3,
      "metadata": {
        "colab": {
          "base_uri": "https://localhost:8080/",
          "height": 424
        },
        "id": "_haIa6p7nQp8",
        "outputId": "0644546d-5e46-4f85-f72b-777683e17be2"
      },
      "outputs": [
        {
          "data": {
            "text/plain": [
              "0               CC1=CC(=O)[C@@H](CC1)C(O)(C)CC\\C=C(/C)C\n",
              "1     O=CC1C=2CC(O[C@@H]3OC[C@H](O)C(O)C3O)C3[C@](C)...\n",
              "2     O=C(O)C[C@@H]1C=C2[C@H]3CCC4[C@@](C)(CCC5[C@@H...\n",
              "3     O=C(O)C1(C)C=C2C3CCC4C(C)(CCC5C4(C=O)CCC(OC4OC...\n",
              "4     CC1=CC[C@@H](OC1=O)[C@@H](C)C1CCC2[C@@H]3CCC4[...\n",
              "5     CC1=CC[C@@H](OC1=O)[C@@H](C)C1CCC2[C@@H]3CCC4[...\n",
              "6     CC1=CC[C@@H](OC1=O)[C@@H](C)C1CCC2[C@@H]3CC[C@...\n",
              "7     O=C(O)[C@H]1O[C@@H](O[C@@H]2[C@@H](O)[C@H](O)[...\n",
              "8     OC1=CC[C@@H](OC1=O)[C@@H](C)C1CCC2[C@@H]3CCC4[...\n",
              "9     CC.CC(C)(O)/C=C/C[C@](C)(O)C1CCC2(C)C1[C@@H](C...\n",
              "10    C.CC(C)(O)/C=C/C[C@](C)(O)C1CCC2(C)C1[C@@H](CC...\n",
              "11        CC(=O)OC1C(=O)c2c(cc(O)cc2O)OC1c1ccc(O)c(O)c1\n",
              "12       CC(=O)OC1C(=O)c2c(cc(O)cc2O)OC1c1ccc(OC)c(O)c1\n",
              "13    CC(=O)OC1C(=O)c2c(O)c(OC)c(O)cc2OC1c1ccc(O)c(O)c1\n",
              "14       CC(=O)OC1C(=O)c2c(O)c(OC)c(O)cc2OC1c1ccc(O)cc1\n",
              "15             Oc1ccc(cc1O)C1CC(=O)c2c(O)c(OC)c(O)cc2O1\n",
              "16    Oc1ccc(cc1)C1Oc2c(C[C@@H]1O)c(O)cc(O)c2C1c2c(O...\n",
              "Name: Smiles, dtype: object"
            ]
          },
          "execution_count": 3,
          "metadata": {},
          "output_type": "execute_result"
        }
      ],
      "source": [
        "target = target['Smiles']\n",
        "target"
      ]
    },
    {
      "cell_type": "code",
      "execution_count": 18,
      "metadata": {
        "id": "1bFeYMBd8FHy"
      },
      "outputs": [],
      "source": [
        "new_smiles=target[2:3]"
      ]
    },
    {
      "cell_type": "code",
      "execution_count": 19,
      "metadata": {
        "id": "fbmEm_8UnU1V"
      },
      "outputs": [],
      "source": [
        "smiles=new_smiles.values.tolist()"
      ]
    },
    {
      "cell_type": "code",
      "execution_count": 20,
      "metadata": {
        "colab": {
          "base_uri": "https://localhost:8080/"
        },
        "id": "CxKQWMub8Ch1",
        "outputId": "971e6f5c-835a-4cb0-fd61-0bbbf82e87df"
      },
      "outputs": [
        {
          "data": {
            "text/plain": [
              "['O=C(O)C[C@@H]1C=C2[C@H]3CCC4[C@@](C)(CCC5[C@@H](C)[C@H](CCC45C=O)OOC(=O)C4(C)CC=C5C6CCC7C(C)(CCC8C7(C=O)CCC(OC7OC(C(=O)O)C(O)C(O)C7OC7OCC(O)C(O)C7O)C8(C)C)C6(C)CCC5(C)C4)C3(C)CC[C@@]2(C)CC1']"
            ]
          },
          "execution_count": 20,
          "metadata": {},
          "output_type": "execute_result"
        }
      ],
      "source": [
        "smiles"
      ]
    },
    {
      "cell_type": "code",
      "execution_count": 4,
      "metadata": {
        "id": "7BzoQOHW8qNf"
      },
      "outputs": [],
      "source": [
        "df = pd.DataFrame()"
      ]
    },
    {
      "cell_type": "code",
      "execution_count": 22,
      "metadata": {
        "colab": {
          "base_uri": "https://localhost:8080/"
        },
        "id": "sFMtSGKL8sS2",
        "outputId": "a2936f96-c128-4b87-daef-f2090a5e5887"
      },
      "outputs": [
        {
          "ename": "RuntimeError",
          "evalue": "PaDEL-Descriptor encountered an error: PaDEL-Descriptor timed out during subprocess call",
          "output_type": "error",
          "traceback": [
            "\u001b[1;31m---------------------------------------------------------------------------\u001b[0m",
            "\u001b[1;31mRuntimeError\u001b[0m                              Traceback (most recent call last)",
            "File \u001b[1;32mc:\\Python\\lib\\site-packages\\padelpy\\functions.py:81\u001b[0m, in \u001b[0;36mfrom_smiles\u001b[1;34m(smiles, output_csv, descriptors, fingerprints, timeout, maxruntime, threads)\u001b[0m\n\u001b[0;32m     80\u001b[0m \u001b[39mtry\u001b[39;00m:\n\u001b[1;32m---> 81\u001b[0m     padeldescriptor(\n\u001b[0;32m     82\u001b[0m         mol_dir\u001b[39m=\u001b[39;49m\u001b[39m\"\u001b[39;49m\u001b[39m{}\u001b[39;49;00m\u001b[39m.smi\u001b[39;49m\u001b[39m\"\u001b[39;49m\u001b[39m.\u001b[39;49mformat(timestamp),\n\u001b[0;32m     83\u001b[0m         d_file\u001b[39m=\u001b[39;49moutput_csv,\n\u001b[0;32m     84\u001b[0m         convert3d\u001b[39m=\u001b[39;49m\u001b[39mTrue\u001b[39;49;00m,\n\u001b[0;32m     85\u001b[0m         retain3d\u001b[39m=\u001b[39;49m\u001b[39mTrue\u001b[39;49;00m,\n\u001b[0;32m     86\u001b[0m         d_2d\u001b[39m=\u001b[39;49mdescriptors,\n\u001b[0;32m     87\u001b[0m         d_3d\u001b[39m=\u001b[39;49mdescriptors,\n\u001b[0;32m     88\u001b[0m         fingerprints\u001b[39m=\u001b[39;49mfingerprints,\n\u001b[0;32m     89\u001b[0m         sp_timeout\u001b[39m=\u001b[39;49mtimeout,\n\u001b[0;32m     90\u001b[0m         retainorder\u001b[39m=\u001b[39;49m\u001b[39mTrue\u001b[39;49;00m,\n\u001b[0;32m     91\u001b[0m         maxruntime\u001b[39m=\u001b[39;49mmaxruntime,\n\u001b[0;32m     92\u001b[0m         threads\u001b[39m=\u001b[39;49mthreads\n\u001b[0;32m     93\u001b[0m     )\n\u001b[0;32m     94\u001b[0m     \u001b[39mbreak\u001b[39;00m\n",
            "File \u001b[1;32mc:\\Python\\lib\\site-packages\\padelpy\\wrapper.py:167\u001b[0m, in \u001b[0;36mpadeldescriptor\u001b[1;34m(maxruntime, waitingjobs, threads, d_2d, d_3d, config, convert3d, descriptortypes, detectaromaticity, mol_dir, d_file, fingerprints, log, maxcpdperfile, removesalt, retain3d, retainorder, standardizenitro, standardizetautomers, tautomerlist, usefilenameasmolname, sp_timeout, headless)\u001b[0m\n\u001b[0;32m    166\u001b[0m \u001b[39mif\u001b[39;00m err \u001b[39m!=\u001b[39m \u001b[39mb\u001b[39m\u001b[39m'\u001b[39m\u001b[39m'\u001b[39m:\n\u001b[1;32m--> 167\u001b[0m     \u001b[39mraise\u001b[39;00m \u001b[39mRuntimeError\u001b[39;00m(\u001b[39m'\u001b[39m\u001b[39mPaDEL-Descriptor encountered an error: \u001b[39m\u001b[39m{}\u001b[39;00m\u001b[39m'\u001b[39m\u001b[39m.\u001b[39mformat(\n\u001b[0;32m    168\u001b[0m         err\u001b[39m.\u001b[39mdecode(\u001b[39m'\u001b[39m\u001b[39mutf-8\u001b[39m\u001b[39m'\u001b[39m)\n\u001b[0;32m    169\u001b[0m     ))\n\u001b[0;32m    170\u001b[0m \u001b[39mreturn\u001b[39;00m\n",
            "\u001b[1;31mRuntimeError\u001b[0m: PaDEL-Descriptor encountered an error: PaDEL-Descriptor timed out during subprocess call",
            "\nDuring handling of the above exception, another exception occurred:\n",
            "\u001b[1;31mRuntimeError\u001b[0m                              Traceback (most recent call last)",
            "\u001b[1;32mc:\\Users\\Mansi Goel\\Downloads\\PaDel_Features.ipynb Cell 12\u001b[0m in \u001b[0;36m<module>\u001b[1;34m\u001b[0m\n\u001b[0;32m      <a href='vscode-notebook-cell:/c%3A/Users/Mansi%20Goel/Downloads/PaDel_Features.ipynb#X13sZmlsZQ%3D%3D?line=1'>2</a>\u001b[0m smiles_list\u001b[39m=\u001b[39m[]\n\u001b[0;32m      <a href='vscode-notebook-cell:/c%3A/Users/Mansi%20Goel/Downloads/PaDel_Features.ipynb#X13sZmlsZQ%3D%3D?line=2'>3</a>\u001b[0m \u001b[39mfor\u001b[39;00m i \u001b[39min\u001b[39;00m smiles:\n\u001b[0;32m      <a href='vscode-notebook-cell:/c%3A/Users/Mansi%20Goel/Downloads/PaDel_Features.ipynb#X13sZmlsZQ%3D%3D?line=3'>4</a>\u001b[0m \u001b[39m# calculate molecular descriptors for propane\u001b[39;00m\n\u001b[0;32m      <a href='vscode-notebook-cell:/c%3A/Users/Mansi%20Goel/Downloads/PaDel_Features.ipynb#X13sZmlsZQ%3D%3D?line=4'>5</a>\u001b[0m   \u001b[39m# descriptors = from_smiles('CCC')\u001b[39;00m\n\u001b[1;32m----> <a href='vscode-notebook-cell:/c%3A/Users/Mansi%20Goel/Downloads/PaDel_Features.ipynb#X13sZmlsZQ%3D%3D?line=6'>7</a>\u001b[0m   desc_fp \u001b[39m=\u001b[39m from_smiles(i, fingerprints\u001b[39m=\u001b[39;49m\u001b[39mTrue\u001b[39;49;00m, timeout\u001b[39m=\u001b[39;49m\u001b[39m30\u001b[39;49m)\n\u001b[0;32m      <a href='vscode-notebook-cell:/c%3A/Users/Mansi%20Goel/Downloads/PaDel_Features.ipynb#X13sZmlsZQ%3D%3D?line=7'>8</a>\u001b[0m   \u001b[39m# print(desc_fp)\u001b[39;00m\n\u001b[0;32m      <a href='vscode-notebook-cell:/c%3A/Users/Mansi%20Goel/Downloads/PaDel_Features.ipynb#X13sZmlsZQ%3D%3D?line=8'>9</a>\u001b[0m   doc\u001b[39m=\u001b[39m\u001b[39mdict\u001b[39m(desc_fp)\n",
            "File \u001b[1;32mc:\\Python\\lib\\site-packages\\padelpy\\functions.py:104\u001b[0m, in \u001b[0;36mfrom_smiles\u001b[1;34m(smiles, output_csv, descriptors, fingerprints, timeout, maxruntime, threads)\u001b[0m\n\u001b[0;32m    102\u001b[0m         \u001b[39mexcept\u001b[39;00m \u001b[39mFileNotFoundError\u001b[39;00m \u001b[39mas\u001b[39;00m e:\n\u001b[0;32m    103\u001b[0m             warnings\u001b[39m.\u001b[39mwarn(e, \u001b[39mRuntimeWarning\u001b[39;00m)\n\u001b[1;32m--> 104\u001b[0m     \u001b[39mraise\u001b[39;00m \u001b[39mRuntimeError\u001b[39;00m(exception)\n\u001b[0;32m    105\u001b[0m \u001b[39melse\u001b[39;00m:\n\u001b[0;32m    106\u001b[0m     \u001b[39mcontinue\u001b[39;00m\n",
            "\u001b[1;31mRuntimeError\u001b[0m: PaDEL-Descriptor encountered an error: PaDEL-Descriptor timed out during subprocess call"
          ]
        }
      ],
      "source": [
        "from padelpy import from_smiles\n",
        "smiles_list=[]\n",
        "for i in smiles:\n",
        "# calculate molecular descriptors for propane\n",
        "  # descriptors = from_smiles('CCC')\n",
        "\n",
        "  desc_fp = from_smiles(i, fingerprints=True, timeout=60)\n",
        "  # print(desc_fp)\n",
        "  doc=dict(desc_fp)\n",
        "  # print(doc)\n",
        "  smiles_list.append(doc)\n",
        "  # df.append(doc,ignore_index=True)\n",
        " "
      ]
    },
    {
      "cell_type": "code",
      "execution_count": 13,
      "metadata": {
        "colab": {
          "base_uri": "https://localhost:8080/",
          "height": 205
        },
        "id": "HCYn1EQvDHDZ",
        "outputId": "39dc1835-28b1-45db-a14e-ef413ed7fb44"
      },
      "outputs": [
        {
          "data": {
            "text/html": [
              "<div>\n",
              "<style scoped>\n",
              "    .dataframe tbody tr th:only-of-type {\n",
              "        vertical-align: middle;\n",
              "    }\n",
              "\n",
              "    .dataframe tbody tr th {\n",
              "        vertical-align: top;\n",
              "    }\n",
              "\n",
              "    .dataframe thead th {\n",
              "        text-align: right;\n",
              "    }\n",
              "</style>\n",
              "<table border=\"1\" class=\"dataframe\">\n",
              "  <thead>\n",
              "    <tr style=\"text-align: right;\">\n",
              "      <th></th>\n",
              "      <th>nAcid</th>\n",
              "      <th>ALogP</th>\n",
              "      <th>ALogp2</th>\n",
              "      <th>AMR</th>\n",
              "      <th>apol</th>\n",
              "      <th>naAromAtom</th>\n",
              "      <th>nAromBond</th>\n",
              "      <th>nAtom</th>\n",
              "      <th>nHeavyAtom</th>\n",
              "      <th>nH</th>\n",
              "      <th>...</th>\n",
              "      <th>PubchemFP871</th>\n",
              "      <th>PubchemFP872</th>\n",
              "      <th>PubchemFP873</th>\n",
              "      <th>PubchemFP874</th>\n",
              "      <th>PubchemFP875</th>\n",
              "      <th>PubchemFP876</th>\n",
              "      <th>PubchemFP877</th>\n",
              "      <th>PubchemFP878</th>\n",
              "      <th>PubchemFP879</th>\n",
              "      <th>PubchemFP880</th>\n",
              "    </tr>\n",
              "  </thead>\n",
              "  <tbody>\n",
              "    <tr>\n",
              "      <th>0</th>\n",
              "      <td>0</td>\n",
              "      <td>2.4786999999999972</td>\n",
              "      <td>6.143953689999987</td>\n",
              "      <td>72.41669999999999</td>\n",
              "      <td>44.007031999999974</td>\n",
              "      <td>0</td>\n",
              "      <td>0</td>\n",
              "      <td>41</td>\n",
              "      <td>17</td>\n",
              "      <td>24</td>\n",
              "      <td>...</td>\n",
              "      <td>0</td>\n",
              "      <td>0</td>\n",
              "      <td>0</td>\n",
              "      <td>0</td>\n",
              "      <td>0</td>\n",
              "      <td>0</td>\n",
              "      <td>0</td>\n",
              "      <td>0</td>\n",
              "      <td>0</td>\n",
              "      <td>0</td>\n",
              "    </tr>\n",
              "    <tr>\n",
              "      <th>1</th>\n",
              "      <td>0</td>\n",
              "      <td>-2.1951000000000027</td>\n",
              "      <td>4.818464010000012</td>\n",
              "      <td>121.1228</td>\n",
              "      <td>75.75413399999994</td>\n",
              "      <td>0</td>\n",
              "      <td>0</td>\n",
              "      <td>71</td>\n",
              "      <td>33</td>\n",
              "      <td>38</td>\n",
              "      <td>...</td>\n",
              "      <td>0</td>\n",
              "      <td>0</td>\n",
              "      <td>0</td>\n",
              "      <td>0</td>\n",
              "      <td>0</td>\n",
              "      <td>0</td>\n",
              "      <td>0</td>\n",
              "      <td>0</td>\n",
              "      <td>0</td>\n",
              "      <td>0</td>\n",
              "    </tr>\n",
              "  </tbody>\n",
              "</table>\n",
              "<p>2 rows × 2756 columns</p>\n",
              "</div>"
            ],
            "text/plain": [
              "  nAcid                ALogP             ALogp2                AMR  \\\n",
              "0     0   2.4786999999999972  6.143953689999987  72.41669999999999   \n",
              "1     0  -2.1951000000000027  4.818464010000012           121.1228   \n",
              "\n",
              "                 apol naAromAtom nAromBond nAtom nHeavyAtom  nH  ...  \\\n",
              "0  44.007031999999974          0         0    41         17  24  ...   \n",
              "1   75.75413399999994          0         0    71         33  38  ...   \n",
              "\n",
              "  PubchemFP871 PubchemFP872 PubchemFP873 PubchemFP874 PubchemFP875  \\\n",
              "0            0            0            0            0            0   \n",
              "1            0            0            0            0            0   \n",
              "\n",
              "  PubchemFP876 PubchemFP877 PubchemFP878 PubchemFP879 PubchemFP880  \n",
              "0            0            0            0            0            0  \n",
              "1            0            0            0            0            0  \n",
              "\n",
              "[2 rows x 2756 columns]"
            ]
          },
          "execution_count": 13,
          "metadata": {},
          "output_type": "execute_result"
        }
      ],
      "source": [
        "df=pd.DataFrame(smiles_list)\n",
        "df"
      ]
    },
    {
      "cell_type": "code",
      "execution_count": null,
      "metadata": {},
      "outputs": [],
      "source": [
        "df.to_csv('kinghorn_padel.csv')"
      ]
    }
  ],
  "metadata": {
    "colab": {
      "provenance": []
    },
    "kernelspec": {
      "display_name": "Python 3.8.7rc1 64-bit",
      "language": "python",
      "name": "python3"
    },
    "language_info": {
      "codemirror_mode": {
        "name": "ipython",
        "version": 3
      },
      "file_extension": ".py",
      "mimetype": "text/x-python",
      "name": "python",
      "nbconvert_exporter": "python",
      "pygments_lexer": "ipython3",
      "version": "3.8.7rc1"
    },
    "vscode": {
      "interpreter": {
        "hash": "52634da84371cba311ea128a5ea7cdc41ff074b781779e754b270ff9f8153cee"
      }
    }
  },
  "nbformat": 4,
  "nbformat_minor": 0
}
